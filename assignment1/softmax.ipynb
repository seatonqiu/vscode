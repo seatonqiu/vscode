{
 "cells": [
  {
   "cell_type": "markdown",
   "metadata": {},
   "source": [
    "# Softmax exercise\n",
    "\n",
    "*Complete and hand in this completed worksheet (including its outputs and any supporting code outside of the worksheet) with your assignment submission. For more details see the [assignments page](http://vision.stanford.edu/teaching/cs231n/assignments.html) on the course website.*\n",
    "\n",
    "This exercise is analogous to the SVM exercise. You will:\n",
    "\n",
    "- implement a fully-vectorized **loss function** for the Softmax classifier\n",
    "- implement the fully-vectorized expression for its **analytic gradient**\n",
    "- **check your implementation** with numerical gradient\n",
    "- use a validation set to **tune the learning rate and regularization** strength\n",
    "- **optimize** the loss function with **SGD**\n",
    "- **visualize** the final learned weights\n"
   ]
  },
  {
   "cell_type": "code",
   "execution_count": 1,
   "metadata": {
    "collapsed": true
   },
   "outputs": [],
   "source": [
    "import random\n",
    "import numpy as np\n",
    "from cs231n.data_utils import load_CIFAR10\n",
    "import matplotlib.pyplot as plt\n",
    "\n",
    "from __future__ import print_function\n",
    "\n",
    "%matplotlib inline\n",
    "plt.rcParams['figure.figsize'] = (10.0, 8.0) # set default size of plots\n",
    "plt.rcParams['image.interpolation'] = 'nearest'\n",
    "plt.rcParams['image.cmap'] = 'gray'\n",
    "\n",
    "# for auto-reloading extenrnal modules\n",
    "# see http://stackoverflow.com/questions/1907993/autoreload-of-modules-in-ipython\n",
    "%load_ext autoreload\n",
    "%autoreload 2"
   ]
  },
  {
   "cell_type": "code",
   "execution_count": 2,
   "metadata": {},
   "outputs": [
    {
     "name": "stdout",
     "output_type": "stream",
     "text": [
      "Train data shape:  (49000, 3073)\n",
      "Train labels shape:  (49000,)\n",
      "Validation data shape:  (1000, 3073)\n",
      "Validation labels shape:  (1000,)\n",
      "Test data shape:  (1000, 3073)\n",
      "Test labels shape:  (1000,)\n",
      "dev data shape:  (500, 3073)\n",
      "dev labels shape:  (500,)\n"
     ]
    }
   ],
   "source": [
    "def get_CIFAR10_data(num_training=49000, num_validation=1000, num_test=1000, num_dev=500):\n",
    "    \"\"\"\n",
    "    Load the CIFAR-10 dataset from disk and perform preprocessing to prepare\n",
    "    it for the linear classifier. These are the same steps as we used for the\n",
    "    SVM, but condensed to a single function.  \n",
    "    \"\"\"\n",
    "    # Load the raw CIFAR-10 data\n",
    "    cifar10_dir = 'cs231n/datasets/cifar-10-batches-py'\n",
    "    X_train, y_train, X_test, y_test = load_CIFAR10(cifar10_dir)\n",
    "    \n",
    "    # subsample the data\n",
    "    mask = list(range(num_training, num_training + num_validation))\n",
    "    X_val = X_train[mask]\n",
    "    y_val = y_train[mask]\n",
    "    mask = list(range(num_training))\n",
    "    X_train = X_train[mask]\n",
    "    y_train = y_train[mask]\n",
    "    mask = list(range(num_test))\n",
    "    X_test = X_test[mask]\n",
    "    y_test = y_test[mask]\n",
    "    mask = np.random.choice(num_training, num_dev, replace=False)\n",
    "    X_dev = X_train[mask]\n",
    "    y_dev = y_train[mask]\n",
    "    \n",
    "    # Preprocessing: reshape the image data into rows\n",
    "    X_train = np.reshape(X_train, (X_train.shape[0], -1))\n",
    "    X_val = np.reshape(X_val, (X_val.shape[0], -1))\n",
    "    X_test = np.reshape(X_test, (X_test.shape[0], -1))\n",
    "    X_dev = np.reshape(X_dev, (X_dev.shape[0], -1))\n",
    "    \n",
    "    # Normalize the data: subtract the mean image\n",
    "    mean_image = np.mean(X_train, axis = 0)\n",
    "    X_train -= mean_image\n",
    "    X_val -= mean_image\n",
    "    X_test -= mean_image\n",
    "    X_dev -= mean_image\n",
    "    \n",
    "    # add bias dimension and transform into columns\n",
    "    X_train = np.hstack([X_train, np.ones((X_train.shape[0], 1))])\n",
    "    X_val = np.hstack([X_val, np.ones((X_val.shape[0], 1))])\n",
    "    X_test = np.hstack([X_test, np.ones((X_test.shape[0], 1))])\n",
    "    X_dev = np.hstack([X_dev, np.ones((X_dev.shape[0], 1))])\n",
    "    \n",
    "    return X_train, y_train, X_val, y_val, X_test, y_test, X_dev, y_dev\n",
    "\n",
    "\n",
    "# Invoke the above function to get our data.\n",
    "X_train, y_train, X_val, y_val, X_test, y_test, X_dev, y_dev = get_CIFAR10_data()\n",
    "print('Train data shape: ', X_train.shape)\n",
    "print('Train labels shape: ', y_train.shape)\n",
    "print('Validation data shape: ', X_val.shape)\n",
    "print('Validation labels shape: ', y_val.shape)\n",
    "print('Test data shape: ', X_test.shape)\n",
    "print('Test labels shape: ', y_test.shape)\n",
    "print('dev data shape: ', X_dev.shape)\n",
    "print('dev labels shape: ', y_dev.shape)"
   ]
  },
  {
   "cell_type": "markdown",
   "metadata": {},
   "source": [
    "## Softmax Classifier\n",
    "\n",
    "Your code for this section will all be written inside **cs231n/classifiers/softmax.py**. \n"
   ]
  },
  {
   "cell_type": "code",
   "execution_count": 3,
   "metadata": {},
   "outputs": [
    {
     "name": "stdout",
     "output_type": "stream",
     "text": [
      "loss: 2.369519\n",
      "sanity check: 2.302585\n"
     ]
    }
   ],
   "source": [
    "# First implement the naive softmax loss function with nested loops.\n",
    "# Open the file cs231n/classifiers/softmax.py and implement the\n",
    "# softmax_loss_naive function.\n",
    "\n",
    "from cs231n.classifiers.softmax import softmax_loss_naive\n",
    "import time\n",
    "\n",
    "# Generate a random softmax weight matrix and use it to compute the loss.\n",
    "W = np.random.randn(3073, 10) * 0.0001\n",
    "loss, grad = softmax_loss_naive(W, X_dev, y_dev, 0.0)\n",
    "\n",
    "# As a rough sanity check, our loss should be something close to -log(0.1).\n",
    "print('loss: %f' % loss)\n",
    "print('sanity check: %f' % (-np.log(0.1)))"
   ]
  },
  {
   "cell_type": "markdown",
   "metadata": {},
   "source": [
    "## Inline Question 1:\n",
    "Why do we expect our loss to be close to -log(0.1)? Explain briefly.**\n",
    "\n",
    "**Your answer:** *Fill this in*\n"
   ]
  },
  {
   "cell_type": "code",
   "execution_count": 4,
   "metadata": {},
   "outputs": [
    {
     "name": "stdout",
     "output_type": "stream",
     "text": [
      "numerical: -0.007977 analytic: -0.007978, relative error: 9.213868e-06\n",
      "numerical: 0.038958 analytic: 0.038958, relative error: 2.065334e-07\n",
      "numerical: -0.631964 analytic: -0.631965, relative error: 5.299671e-08\n",
      "numerical: 1.646391 analytic: 1.646390, relative error: 4.351617e-08\n",
      "numerical: -0.358200 analytic: -0.358200, relative error: 1.647323e-08\n",
      "numerical: -0.787497 analytic: -0.787497, relative error: 2.711430e-08\n",
      "numerical: -2.136460 analytic: -2.136460, relative error: 2.515581e-08\n",
      "numerical: -5.558098 analytic: -5.558098, relative error: 7.582946e-10\n",
      "numerical: -0.567516 analytic: -0.567516, relative error: 3.468237e-08\n",
      "numerical: -0.381689 analytic: -0.381690, relative error: 1.076802e-07\n",
      "numerical: 0.581938 analytic: 0.581938, relative error: 5.373613e-08\n",
      "numerical: 1.157610 analytic: 1.157610, relative error: 1.467668e-08\n",
      "numerical: 1.607246 analytic: 1.607246, relative error: 5.703159e-08\n",
      "numerical: 0.288431 analytic: 0.288431, relative error: 1.685741e-07\n",
      "numerical: 1.571791 analytic: 1.571790, relative error: 2.697160e-08\n",
      "numerical: -1.078991 analytic: -1.078991, relative error: 1.686433e-08\n",
      "numerical: -2.740029 analytic: -2.740029, relative error: 5.392878e-09\n",
      "numerical: -1.245277 analytic: -1.245277, relative error: 9.208230e-09\n",
      "numerical: -0.011471 analytic: -0.011471, relative error: 1.309584e-06\n",
      "numerical: 1.964886 analytic: 1.964886, relative error: 2.336741e-08\n"
     ]
    }
   ],
   "source": [
    "# Complete the implementation of softmax_loss_naive and implement a (naive)\n",
    "# version of the gradient that uses nested loops.\n",
    "loss, grad = softmax_loss_naive(W, X_dev, y_dev, 0.0)\n",
    "\n",
    "# As we did for the SVM, use numeric gradient checking as a debugging tool.\n",
    "# The numeric gradient should be close to the analytic gradient.\n",
    "from cs231n.gradient_check import grad_check_sparse\n",
    "f = lambda w: softmax_loss_naive(w, X_dev, y_dev, 0.0)[0]\n",
    "grad_numerical = grad_check_sparse(f, W, grad, 10)\n",
    "\n",
    "# similar to SVM case, do another gradient check with regularization\n",
    "loss, grad = softmax_loss_naive(W, X_dev, y_dev, 5e1)\n",
    "f = lambda w: softmax_loss_naive(w, X_dev, y_dev, 5e1)[0]\n",
    "grad_numerical = grad_check_sparse(f, W, grad, 10)"
   ]
  },
  {
   "cell_type": "code",
   "execution_count": 5,
   "metadata": {},
   "outputs": [
    {
     "name": "stdout",
     "output_type": "stream",
     "text": [
      "naive loss: 2.369519e+00 computed in 0.043115s\n",
      "vectorized loss: 2.369519e+00 computed in 0.144070s\n",
      "Loss difference: 0.000000\n",
      "Gradient difference: 0.000000\n"
     ]
    }
   ],
   "source": [
    "# Now that we have a naive implementation of the softmax loss function and its gradient,\n",
    "# implement a vectorized version in softmax_loss_vectorized.\n",
    "# The two versions should compute the same results, but the vectorized version should be\n",
    "# much faster.\n",
    "tic = time.time()\n",
    "loss_naive, grad_naive = softmax_loss_naive(W, X_dev, y_dev, 0.000005)\n",
    "toc = time.time()\n",
    "print('naive loss: %e computed in %fs' % (loss_naive, toc - tic))\n",
    "\n",
    "from cs231n.classifiers.softmax import softmax_loss_vectorized\n",
    "tic = time.time()\n",
    "loss_vectorized, grad_vectorized = softmax_loss_vectorized(W, X_dev, y_dev, 0.000005)\n",
    "toc = time.time()\n",
    "print('vectorized loss: %e computed in %fs' % (loss_vectorized, toc - tic))\n",
    "\n",
    "# As we did for the SVM, we use the Frobenius norm to compare the two versions\n",
    "# of the gradient.\n",
    "grad_difference = np.linalg.norm(grad_naive - grad_vectorized, ord='fro')\n",
    "print('Loss difference: %f' % np.abs(loss_naive - loss_vectorized))\n",
    "print('Gradient difference: %f' % grad_difference)"
   ]
  },
  {
   "cell_type": "code",
   "execution_count": 8,
   "metadata": {},
   "outputs": [
    {
     "name": "stderr",
     "output_type": "stream",
     "text": [
      "F:\\code\\spring1617_assignment1\\assignment1\\cs231n\\classifiers\\softmax.py:75: RuntimeWarning: divide by zero encountered in log\n",
      "  loss_temp = -np.log(p_train[range(num_train),y])\n",
      "F:\\code\\spring1617_assignment1\\assignment1\\cs231n\\classifiers\\softmax.py:82: RuntimeWarning: overflow encountered in double_scalars\n",
      "  loss += reg * np.sum(W * W)\n",
      "F:\\code\\spring1617_assignment1\\assignment1\\cs231n\\classifiers\\softmax.py:82: RuntimeWarning: overflow encountered in multiply\n",
      "  loss += reg * np.sum(W * W)\n",
      "F:\\code\\spring1617_assignment1\\assignment1\\cs231n\\classifiers\\softmax.py:83: RuntimeWarning: overflow encountered in multiply\n",
      "  dW += 2*reg*W\n",
      "F:\\code\\spring1617_assignment1\\assignment1\\cs231n\\classifiers\\softmax.py:73: RuntimeWarning: invalid value encountered in subtract\n",
      "  output -= np.max(output,axis=1,keepdims=True)\n",
      "F:\\code\\spring1617_assignment1\\assignment1\\cs231n\\classifiers\\softmax.py:73: RuntimeWarning: overflow encountered in subtract\n",
      "  output -= np.max(output,axis=1,keepdims=True)\n"
     ]
    },
    {
     "name": "stdout",
     "output_type": "stream",
     "text": [
      "lr 1.000000e-07 reg 2.500000e+04 train accuracy: 0.328367 val accuracy: 0.334000\n",
      "lr 1.000000e-07 reg 2.777778e+04 train accuracy: 0.319327 val accuracy: 0.331000\n",
      "lr 1.000000e-07 reg 3.055556e+04 train accuracy: 0.322204 val accuracy: 0.336000\n",
      "lr 1.000000e-07 reg 3.333333e+04 train accuracy: 0.316878 val accuracy: 0.340000\n",
      "lr 1.000000e-07 reg 3.611111e+04 train accuracy: 0.317306 val accuracy: 0.342000\n",
      "lr 1.000000e-07 reg 3.888889e+04 train accuracy: 0.307755 val accuracy: 0.328000\n",
      "lr 1.000000e-07 reg 4.166667e+04 train accuracy: 0.317143 val accuracy: 0.340000\n",
      "lr 1.000000e-07 reg 4.444444e+04 train accuracy: 0.306102 val accuracy: 0.324000\n",
      "lr 1.000000e-07 reg 4.722222e+04 train accuracy: 0.313327 val accuracy: 0.318000\n",
      "lr 1.000000e-07 reg 5.000000e+04 train accuracy: 0.309082 val accuracy: 0.316000\n",
      "lr 5.644444e-06 reg 2.500000e+04 train accuracy: 0.230000 val accuracy: 0.229000\n",
      "lr 5.644444e-06 reg 2.777778e+04 train accuracy: 0.185143 val accuracy: 0.199000\n",
      "lr 5.644444e-06 reg 3.055556e+04 train accuracy: 0.171755 val accuracy: 0.162000\n",
      "lr 5.644444e-06 reg 3.333333e+04 train accuracy: 0.151429 val accuracy: 0.149000\n",
      "lr 5.644444e-06 reg 3.611111e+04 train accuracy: 0.178245 val accuracy: 0.189000\n",
      "lr 5.644444e-06 reg 3.888889e+04 train accuracy: 0.135286 val accuracy: 0.129000\n",
      "lr 5.644444e-06 reg 4.166667e+04 train accuracy: 0.132551 val accuracy: 0.121000\n",
      "lr 5.644444e-06 reg 4.444444e+04 train accuracy: 0.121265 val accuracy: 0.106000\n",
      "lr 5.644444e-06 reg 4.722222e+04 train accuracy: 0.138224 val accuracy: 0.144000\n",
      "lr 5.644444e-06 reg 5.000000e+04 train accuracy: 0.136837 val accuracy: 0.130000\n",
      "lr 1.118889e-05 reg 2.500000e+04 train accuracy: 0.130449 val accuracy: 0.127000\n",
      "lr 1.118889e-05 reg 2.777778e+04 train accuracy: 0.170939 val accuracy: 0.171000\n",
      "lr 1.118889e-05 reg 3.055556e+04 train accuracy: 0.114347 val accuracy: 0.118000\n",
      "lr 1.118889e-05 reg 3.333333e+04 train accuracy: 0.105490 val accuracy: 0.108000\n",
      "lr 1.118889e-05 reg 3.611111e+04 train accuracy: 0.078020 val accuracy: 0.080000\n",
      "lr 1.118889e-05 reg 3.888889e+04 train accuracy: 0.073959 val accuracy: 0.061000\n",
      "lr 1.118889e-05 reg 4.166667e+04 train accuracy: 0.118265 val accuracy: 0.111000\n",
      "lr 1.118889e-05 reg 4.444444e+04 train accuracy: 0.110857 val accuracy: 0.113000\n",
      "lr 1.118889e-05 reg 4.722222e+04 train accuracy: 0.116653 val accuracy: 0.120000\n",
      "lr 1.118889e-05 reg 5.000000e+04 train accuracy: 0.071551 val accuracy: 0.063000\n",
      "lr 1.673333e-05 reg 2.500000e+04 train accuracy: 0.082429 val accuracy: 0.104000\n",
      "lr 1.673333e-05 reg 2.777778e+04 train accuracy: 0.128265 val accuracy: 0.106000\n",
      "lr 1.673333e-05 reg 3.055556e+04 train accuracy: 0.104531 val accuracy: 0.108000\n",
      "lr 1.673333e-05 reg 3.333333e+04 train accuracy: 0.064898 val accuracy: 0.062000\n",
      "lr 1.673333e-05 reg 3.611111e+04 train accuracy: 0.099816 val accuracy: 0.102000\n",
      "lr 1.673333e-05 reg 3.888889e+04 train accuracy: 0.059939 val accuracy: 0.052000\n",
      "lr 1.673333e-05 reg 4.166667e+04 train accuracy: 0.112449 val accuracy: 0.114000\n",
      "lr 1.673333e-05 reg 4.444444e+04 train accuracy: 0.064408 val accuracy: 0.067000\n",
      "lr 1.673333e-05 reg 4.722222e+04 train accuracy: 0.113796 val accuracy: 0.098000\n",
      "lr 1.673333e-05 reg 5.000000e+04 train accuracy: 0.098612 val accuracy: 0.099000\n",
      "lr 2.227778e-05 reg 2.500000e+04 train accuracy: 0.069327 val accuracy: 0.066000\n",
      "lr 2.227778e-05 reg 2.777778e+04 train accuracy: 0.136367 val accuracy: 0.149000\n",
      "lr 2.227778e-05 reg 3.055556e+04 train accuracy: 0.056878 val accuracy: 0.052000\n",
      "lr 2.227778e-05 reg 3.333333e+04 train accuracy: 0.103388 val accuracy: 0.099000\n",
      "lr 2.227778e-05 reg 3.611111e+04 train accuracy: 0.093531 val accuracy: 0.088000\n",
      "lr 2.227778e-05 reg 3.888889e+04 train accuracy: 0.084184 val accuracy: 0.076000\n",
      "lr 2.227778e-05 reg 4.166667e+04 train accuracy: 0.069857 val accuracy: 0.072000\n",
      "lr 2.227778e-05 reg 4.444444e+04 train accuracy: 0.056265 val accuracy: 0.056000\n",
      "lr 2.227778e-05 reg 4.722222e+04 train accuracy: 0.092449 val accuracy: 0.093000\n",
      "lr 2.227778e-05 reg 5.000000e+04 train accuracy: 0.074633 val accuracy: 0.066000\n",
      "lr 2.782222e-05 reg 2.500000e+04 train accuracy: 0.081837 val accuracy: 0.070000\n",
      "lr 2.782222e-05 reg 2.777778e+04 train accuracy: 0.116673 val accuracy: 0.121000\n",
      "lr 2.782222e-05 reg 3.055556e+04 train accuracy: 0.128898 val accuracy: 0.129000\n",
      "lr 2.782222e-05 reg 3.333333e+04 train accuracy: 0.098592 val accuracy: 0.082000\n",
      "lr 2.782222e-05 reg 3.611111e+04 train accuracy: 0.131224 val accuracy: 0.140000\n",
      "lr 2.782222e-05 reg 3.888889e+04 train accuracy: 0.079000 val accuracy: 0.071000\n",
      "lr 2.782222e-05 reg 4.166667e+04 train accuracy: 0.085224 val accuracy: 0.087000\n",
      "lr 2.782222e-05 reg 4.444444e+04 train accuracy: 0.080449 val accuracy: 0.083000\n",
      "lr 2.782222e-05 reg 4.722222e+04 train accuracy: 0.100265 val accuracy: 0.087000\n",
      "lr 2.782222e-05 reg 5.000000e+04 train accuracy: 0.100265 val accuracy: 0.087000\n",
      "lr 3.336667e-05 reg 2.500000e+04 train accuracy: 0.054388 val accuracy: 0.046000\n",
      "lr 3.336667e-05 reg 2.777778e+04 train accuracy: 0.102531 val accuracy: 0.104000\n",
      "lr 3.336667e-05 reg 3.055556e+04 train accuracy: 0.050449 val accuracy: 0.044000\n",
      "lr 3.336667e-05 reg 3.333333e+04 train accuracy: 0.061388 val accuracy: 0.056000\n",
      "lr 3.336667e-05 reg 3.611111e+04 train accuracy: 0.065633 val accuracy: 0.065000\n",
      "lr 3.336667e-05 reg 3.888889e+04 train accuracy: 0.139694 val accuracy: 0.148000\n",
      "lr 3.336667e-05 reg 4.166667e+04 train accuracy: 0.100265 val accuracy: 0.087000\n",
      "lr 3.336667e-05 reg 4.444444e+04 train accuracy: 0.100265 val accuracy: 0.087000\n",
      "lr 3.336667e-05 reg 4.722222e+04 train accuracy: 0.100265 val accuracy: 0.087000\n",
      "lr 3.336667e-05 reg 5.000000e+04 train accuracy: 0.100265 val accuracy: 0.087000\n",
      "lr 3.891111e-05 reg 2.500000e+04 train accuracy: 0.056776 val accuracy: 0.039000\n",
      "lr 3.891111e-05 reg 2.777778e+04 train accuracy: 0.091816 val accuracy: 0.080000\n",
      "lr 3.891111e-05 reg 3.055556e+04 train accuracy: 0.112551 val accuracy: 0.124000\n",
      "lr 3.891111e-05 reg 3.333333e+04 train accuracy: 0.082245 val accuracy: 0.078000\n",
      "lr 3.891111e-05 reg 3.611111e+04 train accuracy: 0.100265 val accuracy: 0.087000\n",
      "lr 3.891111e-05 reg 3.888889e+04 train accuracy: 0.100265 val accuracy: 0.087000\n",
      "lr 3.891111e-05 reg 4.166667e+04 train accuracy: 0.100265 val accuracy: 0.087000\n",
      "lr 3.891111e-05 reg 4.444444e+04 train accuracy: 0.100265 val accuracy: 0.087000\n",
      "lr 3.891111e-05 reg 4.722222e+04 train accuracy: 0.100265 val accuracy: 0.087000\n",
      "lr 3.891111e-05 reg 5.000000e+04 train accuracy: 0.100265 val accuracy: 0.087000\n",
      "lr 4.445556e-05 reg 2.500000e+04 train accuracy: 0.090898 val accuracy: 0.083000\n",
      "lr 4.445556e-05 reg 2.777778e+04 train accuracy: 0.054612 val accuracy: 0.057000\n",
      "lr 4.445556e-05 reg 3.055556e+04 train accuracy: 0.100265 val accuracy: 0.087000\n",
      "lr 4.445556e-05 reg 3.333333e+04 train accuracy: 0.100265 val accuracy: 0.087000\n",
      "lr 4.445556e-05 reg 3.611111e+04 train accuracy: 0.100265 val accuracy: 0.087000\n",
      "lr 4.445556e-05 reg 3.888889e+04 train accuracy: 0.100265 val accuracy: 0.087000\n",
      "lr 4.445556e-05 reg 4.166667e+04 train accuracy: 0.100265 val accuracy: 0.087000\n",
      "lr 4.445556e-05 reg 4.444444e+04 train accuracy: 0.100265 val accuracy: 0.087000\n",
      "lr 4.445556e-05 reg 4.722222e+04 train accuracy: 0.100265 val accuracy: 0.087000\n",
      "lr 4.445556e-05 reg 5.000000e+04 train accuracy: 0.100265 val accuracy: 0.087000\n",
      "lr 5.000000e-05 reg 2.500000e+04 train accuracy: 0.116816 val accuracy: 0.115000\n",
      "lr 5.000000e-05 reg 2.777778e+04 train accuracy: 0.100265 val accuracy: 0.087000\n",
      "lr 5.000000e-05 reg 3.055556e+04 train accuracy: 0.100265 val accuracy: 0.087000\n",
      "lr 5.000000e-05 reg 3.333333e+04 train accuracy: 0.100265 val accuracy: 0.087000\n",
      "lr 5.000000e-05 reg 3.611111e+04 train accuracy: 0.100265 val accuracy: 0.087000\n",
      "lr 5.000000e-05 reg 3.888889e+04 train accuracy: 0.100265 val accuracy: 0.087000\n",
      "lr 5.000000e-05 reg 4.166667e+04 train accuracy: 0.100265 val accuracy: 0.087000\n",
      "lr 5.000000e-05 reg 4.444444e+04 train accuracy: 0.100265 val accuracy: 0.087000\n",
      "lr 5.000000e-05 reg 4.722222e+04 train accuracy: 0.100265 val accuracy: 0.087000\n",
      "lr 5.000000e-05 reg 5.000000e+04 train accuracy: 0.100265 val accuracy: 0.087000\n",
      "best validation accuracy achieved during cross-validation: 0.342000\n"
     ]
    }
   ],
   "source": [
    "# Use the validation set to tune hyperparameters (regularization strength and\n",
    "# learning rate). You should experiment with different ranges for the learning\n",
    "# rates and regularization strengths; if you are careful you should be able to\n",
    "# get a classification accuracy of over 0.35 on the validation set.\n",
    "from cs231n.classifiers import Softmax\n",
    "results = {}\n",
    "best_val = -1\n",
    "best_softmax = None\n",
    "learning_rates = np.linspace(1e-7, 5e-5,10)\n",
    "regularization_strengths = np.linspace(2.5e4, 5e4,10)\n",
    "\n",
    "################################################################################\n",
    "# TODO:                                                                        #\n",
    "# Use the validation set to set the learning rate and regularization strength. #\n",
    "# This should be identical to the validation that you did for the SVM; save    #\n",
    "# the best trained softmax classifer in best_softmax.                          #\n",
    "################################################################################\n",
    "for i in learning_rates:\n",
    "    for j in regularization_strengths:\n",
    "        softmax = Softmax()\n",
    "        loss_hist = softmax.train(X_train, y_train, learning_rate=i, reg=j,\n",
    "                      num_iters=1500, verbose=True)\n",
    "        y_train_pred = softmax.predict(X_train)\n",
    "        y_val_pred = softmax.predict(X_val)\n",
    "        train_accuracy = np.mean(y_train == y_train_pred)\n",
    "        validation_accuracy = np.mean(y_val == y_val_pred)\n",
    "        if best_val < validation_accuracy:\n",
    "            best_val = validation_accuracy\n",
    "            best_softmax = softmax\n",
    "        results[(i,j)] = (train_accuracy, validation_accuracy)\n",
    "################################################################################\n",
    "#                              END OF YOUR CODE                                #\n",
    "################################################################################\n",
    "    \n",
    "# Print out results.\n",
    "for lr, reg in sorted(results):\n",
    "    train_accuracy, val_accuracy = results[(lr, reg)]\n",
    "    print('lr %e reg %e train accuracy: %f val accuracy: %f' % (\n",
    "                lr, reg, train_accuracy, val_accuracy))\n",
    "    \n",
    "print('best validation accuracy achieved during cross-validation: %f' % best_val)"
   ]
  },
  {
   "cell_type": "code",
   "execution_count": 9,
   "metadata": {},
   "outputs": [
    {
     "name": "stdout",
     "output_type": "stream",
     "text": [
      "softmax on raw pixels final test set accuracy: 0.331000\n"
     ]
    }
   ],
   "source": [
    "# evaluate on test set\n",
    "# Evaluate the best softmax on test set\n",
    "y_test_pred = best_softmax.predict(X_test)\n",
    "test_accuracy = np.mean(y_test == y_test_pred)\n",
    "print('softmax on raw pixels final test set accuracy: %f' % (test_accuracy, ))"
   ]
  },
  {
   "cell_type": "code",
   "execution_count": 10,
   "metadata": {},
   "outputs": [
    {
     "data": {
      "image/png": "[encoded data removed]",
      "text/plain": [
       "<matplotlib.figure.Figure at 0x2a097331e48>"
      ]
     },
     "metadata": {},
     "output_type": "display_data"
    }
   ],
   "source": [
    "# Visualize the learned weights for each class\n",
    "w = best_softmax.W[:-1,:] # strip out the bias\n",
    "w = w.reshape(32, 32, 3, 10)\n",
    "\n",
    "w_min, w_max = np.min(w), np.max(w)\n",
    "\n",
    "classes = ['plane', 'car', 'bird', 'cat', 'deer', 'dog', 'frog', 'horse', 'ship', 'truck']\n",
    "for i in range(10):\n",
    "    plt.subplot(2, 5, i + 1)\n",
    "    \n",
    "    # Rescale the weights to be between 0 and 255\n",
    "    wimg = 255.0 * (w[:, :, :, i].squeeze() - w_min) / (w_max - w_min)\n",
    "    plt.imshow(wimg.astype('uint8'))\n",
    "    plt.axis('off')\n",
    "    plt.title(classes[i])"
   ]
  },
  {
   "cell_type": "code",
   "execution_count": null,
   "metadata": {
    "collapsed": true
   },
   "outputs": [],
   "source": []
  }
 ],
 "metadata": {
  "kernelspec": {
   "display_name": "Python 3",
   "language": "python",
   "name": "python3"
  },
  "language_info": {
   "codemirror_mode": {
    "name": "ipython",
    "version": 3
   },
   "file_extension": ".py",
   "mimetype": "text/x-python",
   "name": "python",
   "nbconvert_exporter": "python",
   "pygments_lexer": "ipython3",
   "version": "3.6.3"
  }
 },
 "nbformat": 4,
 "nbformat_minor": 1
}
